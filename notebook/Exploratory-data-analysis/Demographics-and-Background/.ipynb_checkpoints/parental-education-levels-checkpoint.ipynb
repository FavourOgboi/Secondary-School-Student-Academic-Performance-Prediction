{
 "cells": [
  {
   "cell_type": "markdown",
   "id": "fc7c7694-ebcd-4c5c-9404-52de8eaeffb7",
   "metadata": {},
   "source": [
    "# Analysis of Parent Education Level and Student Academic Performance\n",
    "\n",
    "<p style=\"text-align: center;\">\n",
    "<img src=\"../../../images/edulevel.jfif\" alt=\"Demographics and Background\" style=\"width: 800px; height: 500px;\">\n",
    "</p>\n",
    "\n",
    "This analysis explores the relationship between **Parent Education Level** and students' academic performance. Understanding this correlation is crucial as parental education often influences the support and resources provided at home, which can significantly impact students' educational outcomes.\n",
    "\n",
    "1. **Hypothesis**: Higher parental education levels are expected to lead to increased academic support for students, fostering better academic performance.\n",
    "  \n",
    "2. **Research Questions**:\n",
    "   - What is the correlation between parent education levels and students' academic performance across various subjects?\n",
    "   - Do higher parental education levels result in greater involvement in students' education and homework assistance?\n",
    "\n",
    "This analysis aims to provide insights into how parental educational backgrounds contribute to student success and identify areas for potential intervention to support students from families with lower education levels.\n"
   ]
  },
  {
   "cell_type": "code",
   "execution_count": 5,
   "id": "f861fdba-b018-4f41-a468-01f7e749b510",
   "metadata": {},
   "outputs": [],
   "source": [
    "import pandas as pd\n",
    "from sqlalchemy import create_engine, inspect,text\n",
    "import matplotlib.pyplot as plt\n",
    "import seaborn as sns\n",
    "import os"
   ]
  },
  {
   "cell_type": "code",
   "execution_count": null,
   "id": "75559c70-d02c-463e-9a0f-4293fd6b07e3",
   "metadata": {},
   "outputs": [],
   "source": [
    "# Calculate correlation between Parent Education Level and Academic Performance\n",
    "correlation_df = data_frame.corr(method='pearson')\n",
    "\n",
    "# Select relevant columns for Parent Education Level and Performance in various subjects\n",
    "parent_education_performance_corr = correlation_df[['Parent Education Level', \n",
    "                                                     'Performance in English', \n",
    "                                                     'Performance in Maths', \n",
    "                                                     'Performance in Biology', \n",
    "                                                     'Performance in Physics', \n",
    "                                                     'Performance in Chemistry', \n",
    "                                                     'Performance in Lit in English', \n",
    "                                                     'Performance in Government', \n",
    "                                                     'Performance in CRS', \n",
    "                                                     'Performance in Commerce', \n",
    "                                                     'Performance in Accounting', \n",
    "                                                     'Performance in Economics']]\n",
    "\n",
    "# Display the correlation values\n",
    "print(parent_education_performance_corr)\n",
    "\n",
    "# Visualize the correlation matrix\n",
    "plt.figure(figsize=(12, 8))\n",
    "sns.heatmap(parent_education_performance_corr, annot=True, cmap='coolwarm', fmt=\".2f\", linewidths=.5)\n",
    "plt.title('Correlation between Parent Education Level and Students\\' Academic Performance')\n",
    "plt.show()"
   ]
  }
 ],
 "metadata": {
  "kernelspec": {
   "display_name": "Python 3 (ipykernel)",
   "language": "python",
   "name": "python3"
  },
  "language_info": {
   "codemirror_mode": {
    "name": "ipython",
    "version": 3
   },
   "file_extension": ".py",
   "mimetype": "text/x-python",
   "name": "python",
   "nbconvert_exporter": "python",
   "pygments_lexer": "ipython3",
   "version": "3.12.4"
  }
 },
 "nbformat": 4,
 "nbformat_minor": 5
}
