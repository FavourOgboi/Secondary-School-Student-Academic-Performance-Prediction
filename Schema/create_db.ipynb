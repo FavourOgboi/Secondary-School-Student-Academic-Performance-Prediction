{
 "cells": [
  {
   "cell_type": "markdown",
   "id": "c2e56f07-1482-47de-adc9-6eb0f2bb1d46",
   "metadata": {},
   "source": [
    "# SQLITE DATABASE LOADING...\r\n",
    "***\r",
    "<p style=\"text-align: center;\">\n",
    "  <img src=\"../images/db_ipynb.jfif\" alt=\"Database\" style=\"width: 500px; height: 350px;\">\n",
    "</p>\n",
    "</p>\r\n"
   ]
  },
  {
   "cell_type": "code",
   "execution_count": 6,
   "id": "03045ab5-cd7e-4576-9e6b-07f4e4154677",
   "metadata": {},
   "outputs": [
    {
     "name": "stdout",
     "output_type": "stream",
     "text": [
      "Database created and data imported successfully.\n"
     ]
    }
   ],
   "source": [
    "import pandas as pd\n",
    "from sqlalchemy import create_engine\n",
    "\n",
    "# paths specifications \n",
    "csv_file_path = '../data/processed_survey_data.csv' \n",
    "db_path = 'student_database.db' \n",
    "\n",
    "# Creating an SQLite database connection\n",
    "engine = create_engine(f'sqlite:///{db_path}')\n",
    "\n",
    "# Loading your processed_survey_data.csv file into a DataFrame\n",
    "df = pd.read_csv(csv_file_path)\n",
    "\n",
    "# Writing the DataFrame to the SQLite database to create a new table called student_performance\n",
    "df.to_sql('student_performance', con=engine, if_exists='replace', index=False)\n",
    "\n",
    "print(\"Database created and data imported successfully.\")"
   ]
  }
 ],
 "metadata": {
  "kernelspec": {
   "display_name": "Python 3 (ipykernel)",
   "language": "python",
   "name": "python3"
  },
  "language_info": {
   "codemirror_mode": {
    "name": "ipython",
    "version": 3
   },
   "file_extension": ".py",
   "mimetype": "text/x-python",
   "name": "python",
   "nbconvert_exporter": "python",
   "pygments_lexer": "ipython3",
   "version": "3.12.4"
  }
 },
 "nbformat": 4,
 "nbformat_minor": 5
}
